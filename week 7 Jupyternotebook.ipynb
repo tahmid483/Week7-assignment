{
 "cells": [
  {
   "cell_type": "code",
   "execution_count": null,
   "metadata": {},
   "outputs": [],
   "source": [
    "import pandas as pd\n",
    "import numpy as np\n",
    "\n",
    "movies = [\"Oppenheimer\", \"Barbie\", \"Dune 2\", \"The Marvels\", \"Wonka\", \"John Wick 4\"]\n",
    "users = [\"Alice\", \"Bob\", \"Charlie\", \"Diana\", \"Ethan\"]\n",
    "\n",
    "np.random.seed(42)\n",
    "ratings_data = {\n",
    "    user: [np.random.choice([1, 2, 3, 4, 5, np.nan], p=[0.15, 0.2, 0.25, 0.2, 0.1, 0.1]) for _ in movies]\n",
    "    for user in users\n",
    "}\n",
    "ratings_df = pd.DataFrame(ratings_data, index=movies)\n",
    "\n",
    "csv_path = \"C:/Users/Tahmid/Desktop/movie_ratings.csv\"\n",
    "ratings_df.to_csv(csv_path)\n",
    "\n",
    "print(ratings_df)\n",
    "\n"
   ]
  }
 ],
 "metadata": {
  "kernelspec": {
   "display_name": "Python 3",
   "language": "python",
   "name": "python3"
  },
  "language_info": {
   "name": "python",
   "version": "3.13.2"
  }
 },
 "nbformat": 4,
 "nbformat_minor": 2
}
